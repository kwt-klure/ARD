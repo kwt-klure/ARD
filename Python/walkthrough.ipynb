{
  "cells": [
    {
      "cell_type": "markdown",
      "source": [
        "# Illustration of Alidaee, Auerbach, and Leung (2020)\n",
        "\n",
        "This notebook walks through a brief illustration of the Python implementation of the penalized regression estimator of Alidaee, Auerbach, and Leung (2020) for recovering networks from ARD. Some interactive tutorials for Python, numpy, and the networkx module can be found [here](https://github.com/mpleung/Python_tutorials).\n",
        "\n",
        "The code blocks in this notebook can be changed if this notebook is opened in [nteract](https://nteract.io/desktop) or the following binder link:\n",
        "\n",
        "[![Binder](https://mybinder.org/badge_logo.svg)](https://mybinder.org/v2/gh/mpleung/ARD/master?filepath=Python%2Fwalkthrough.ipynb) \n",
        "\n",
        "Either method allows you to execute any Python code block by clicking on it and hitting *Shift+Enter*. These blocks can be modified by the user.\n",
        "\n",
        "## Background\n",
        "\n",
        "Let N2 be the number of agents in the full network, N1 the number of sample agents from which the researcher will gather ARD, and K the number of ARD questions of the form \"How many of your friends have type k?\" for k = 1, ..., K. Types could be characteristics like gender, race, or other such traits. The goal is to recover the N2 x N1 matrix $M^*$, which gives the linking probability between agents in the N1 sample and agents in the N2 population. \n",
        "\n",
        "The researcher conducts a full census of the network to obtain type data, which, in the example below, is stored in type\\_data.csv, a N2 x K matrix of indicators, where the ik-th entry is an indicator for whether agent i is type k. The ARD data is stored in ARD\\_data.csv, an N1 x K matrix where the ik-th entry is the number of agent i's friends of type k.\n",
        "\n",
        "## Setup\n",
        "\n",
        "First we'll import the required modules."
      ],
      "metadata": {}
    },
    {
      "cell_type": "code",
      "source": [
        "import numpy as np, pandas as pd, nuclear_norm_module as nn\n",
        "np.random.seed(0) # set seed"
      ],
      "outputs": [],
      "execution_count": 1,
      "metadata": {}
    },
    {
      "cell_type": "markdown",
      "source": [
        "*numpy* is a module for working with matrices in Python. \n",
        "\n",
        "*pandas* is a module only used here to load CSVs. \n",
        "\n",
        "*nuclear_norm_module* is our implementation of our estimator.\n",
        "\n",
        "### Simulate Data\n",
        "\n",
        "This section of the tutorial can be skipped. It is included only to show how the CSVs to be loaded below are generated.\n",
        "\n",
        "Let *N1* be the number of units for which we obtain ARD. Let *N2* be the population size, meaning the number of units in the entire network. Let *K* be the number of traits for which we collect ARD.\n",
        "\n",
        "We simulate an undirected network with no self links from a random dot product graph on *N2* units. Then we take the submatrix of the network corresponding to links involving the subset of *N1* units for which we want to generate ARDs."
      ],
      "metadata": {}
    },
    {
      "cell_type": "code",
      "source": [
        "N1 = 100\n",
        "N2 = 200\n",
        "K = int(round(N1**(0.4)))\n",
        "\n",
        "# simulate network \n",
        "positions = np.sqrt(np.random.uniform(0,1,N2))\n",
        "M = positions * positions[:,None] # n x n matrix of link probabilities\n",
        "np.fill_diagonal(M,0) # zero out diagonal entries to ensure no self links\n",
        "U = np.random.uniform(0,1,size=(N2,N2))\n",
        "U = U.T/2 + U/2 # make matrix symmetric to have an undirected network\n",
        "G = (U < M)[:,:N1] # simulated network submatrix"
      ],
      "outputs": [],
      "execution_count": 3,
      "metadata": {}
    },
    {
      "cell_type": "markdown",
      "source": [
        "When we discuss below how to use the result of our estimation procedure, we explain some of these commands used to simulate the network.\n",
        "\n",
        "Next we create a *K* by *N2* matrix of types, which we'll just take to be a matrix of i.i.d. Bernoulli random variables. Call this matrix *types*. Then we'll construct the ARDs, which is what the econometrician actually observes in data. This is obtained just by taking the matrix product of *types* and *G*."
      ],
      "metadata": {}
    },
    {
      "cell_type": "code",
      "source": [
        "types = np.random.binomial(1,0.5,size=(K,N2))\n",
        "ARDs = types.dot(G)"
      ],
      "outputs": [],
      "execution_count": 4,
      "metadata": {}
    },
    {
      "cell_type": "markdown",
      "source": [
        "In preparation for the actual exercise, we next save these matrices in CSV files."
      ],
      "metadata": {}
    },
    {
      "cell_type": "code",
      "source": [
        "pd.DataFrame(ARDs.T).to_csv('ARD_data.csv', index=False, header=False)\n",
        "pd.DataFrame(types.T).to_csv('type_data.csv', index=False, header=False)"
      ],
      "outputs": [],
      "execution_count": 5,
      "metadata": {}
    },
    {
      "cell_type": "markdown",
      "source": [
        "This saves *ARDs* in a file *ARD_data.csv* and *types* in a file *type_data.csv*.\n",
        "\n",
        "### Load Data\n",
        "\n",
        "In the previous section, we simulated the following numpy matrices, which we saved as CSVs.\n",
        "\n",
        "*types* is a K by N2 matrix of indicators giving the types of each unit in the surveyed population. For example, the first column might contain indicators for being female, being white, etc. for unit 1.\n",
        "\n",
        "*ARDs* is a K by N1 matrix of K ARDs for N1 observations. For example, the first column might contain the number of female friends, number of white friends, etc. of unit 1.\n",
        "\n",
        "In practice, we would have gathered this data from the field and have them already saved in CSVs. We load them as follows."
      ],
      "metadata": {}
    },
    {
      "cell_type": "code",
      "source": [
        "# load CSVs as numpy matrices\n",
        "ARDs = pd.read_csv('ARD_data.csv', header=None).values.T\n",
        "types = pd.read_csv('type_data.csv', header=None).values.T\n",
        "\n",
        "# store dimensions\n",
        "K = ARDs.shape[0]\n",
        "N1 = ARDs.shape[1]\n",
        "N2 = types.shape[1]"
      ],
      "outputs": [],
      "execution_count": 2,
      "metadata": {}
    },
    {
      "cell_type": "markdown",
      "source": [
        "## Estimation\n",
        "\n",
        "To estimate the distribution of the network, we use the function *matrix_regression* in *nuclear_norm_module*, which was imported above under the abbreviation *nn*.\n",
        "\n",
        "Note: the code snippet below might take a beat to run in binder, but it is fast on a personal computer."
      ],
      "metadata": {}
    },
    {
      "cell_type": "code",
      "source": [
        "M_hat = nn.matrix_regression(ARDs, types)"
      ],
      "outputs": [],
      "execution_count": 3,
      "metadata": {}
    },
    {
      "cell_type": "markdown",
      "source": [
        "*M_hat* is our estimate, an N2 by N1 matrix, where the *ij*th entry is our estimate of the probability that unit *i* links with unit *j*.\n",
        "\n",
        "Just to see that we've done something, let's print the upper 5 by 5 submatrix of *M_hat*."
      ],
      "metadata": {}
    },
    {
      "cell_type": "code",
      "source": [
        "print(M_hat[0:5,0:5])"
      ],
      "outputs": [
        {
          "output_type": "stream",
          "name": "stdout",
          "text": [
            "[[0.         0.63775324 0.44260486 0.53027242 0.44479568]\n",
            " [0.63775324 0.         0.58602635 0.68282686 0.56840426]\n",
            " [0.44260486 0.58602635 0.         0.4747138  0.40486628]\n",
            " [0.53027242 0.68282686 0.4747138  0.         0.47632266]\n",
            " [0.44479568 0.56840426 0.40486628 0.47632266 0.        ]]\n"
          ]
        }
      ],
      "execution_count": 4,
      "metadata": {}
    },
    {
      "cell_type": "markdown",
      "source": [
        "## Using the Result\n",
        "\n",
        "The estimated network distribution *M_hat* can be saved in a CSV as follows. It can then be imported into the user's favorite statistical computing environment."
      ],
      "metadata": {}
    },
    {
      "cell_type": "code",
      "source": [
        "# save in a CSV file called estimated_network\n",
        "pd.DataFrame(M_hat).to_csv('estimated_network.csv', index=False, header=False)"
      ],
      "outputs": [],
      "execution_count": 9,
      "metadata": {}
    },
    {
      "cell_type": "markdown",
      "source": [
        "This result can then be used as an input into a second-stage model. See Breza et al. (2019) for possible applications.\n",
        "\n",
        "It may also be of interest to simulate networks from *M_hat*. In our model, *M_hat* (or more precisely its upper diagonal, given the network is undirected) is a matrix of independent linking probabilities. Thus to simulate a network *G* from *M_hat*, we just draw an N2 by N1 matrix of i.i.d. uniform random variables, denoted by *U* and form the *ij* entry of *G* according to $G_{ij}=\\mathbf{1}\\{U_{ij} < \\hat{M}_{ij}\\}$. In Python, this is done as follows.\n",
        "\n",
        "First, draw an N2 by N1 matrix of i.i.d. uniform random variables."
      ],
      "metadata": {}
    },
    {
      "cell_type": "code",
      "source": [
        "U = np.random.uniform(0,1,size=(N2,N1)) # draw uniform random variables\n",
        "np.fill_diagonal(U,0)                   # zero out the diagonal entries \n",
        "                                        #    (if no self links)"
      ],
      "outputs": [],
      "execution_count": 5,
      "metadata": {}
    },
    {
      "cell_type": "markdown",
      "source": [
        "If the true network is undirected, then we need to symmetrize the upper N1 by N1 submatrix. If the true matrix is directed, then skip this step."
      ],
      "metadata": {}
    },
    {
      "cell_type": "code",
      "source": [
        "U_sub = U[:N1,:]            # extract upper N1 x N1 submatrix\n",
        "U_sub = U_sub.T/2 + U_sub/2 # symmetrize the submatrix\n",
        "U[:N1,:] = U_sub            # replace the upper N1 x N1 submatrix of\n",
        "                            #     the original matrix U with U_sub"
      ],
      "outputs": [],
      "execution_count": 6,
      "metadata": {}
    },
    {
      "cell_type": "markdown",
      "source": [
        "Given *U* and *M_hat*, our simulated network *G* is obtained as follows."
      ],
      "metadata": {}
    },
    {
      "cell_type": "code",
      "source": [
        "G = (U < M_hat).astype('int')"
      ],
      "outputs": [],
      "execution_count": 7,
      "metadata": {}
    },
    {
      "cell_type": "markdown",
      "source": [
        "The command *(U < M_hat)* generates an N2 x N1 matrix of booleans (True/False) where the *ij*th entry is True if and only if $U_{ij} < \\hat{M}_{ij}$. To convert this to 1s and 0s, we use the *astype* method to convert to the integer type.\n",
        "\n",
        "Now we can use *G* as an input into some second stage procedure. See Breza et al. (2019) for examples. Just to see that we've done something, let's print the upper 10 x 10 submatrix of *G*:"
      ],
      "metadata": {}
    },
    {
      "cell_type": "code",
      "source": [
        "print(G[0:5,0:5])"
      ],
      "outputs": [
        {
          "output_type": "stream",
          "name": "stdout",
          "text": [
            "[[0 1 0 0 0]\n",
            " [1 0 1 1 1]\n",
            " [0 1 0 0 0]\n",
            " [0 1 0 0 1]\n",
            " [0 1 0 1 0]]\n"
          ]
        }
      ],
      "execution_count": 8,
      "metadata": {}
    }
  ],
  "metadata": {
    "kernel_info": {
      "name": "python3"
    },
    "kernelspec": {
      "name": "python3",
      "language": "python",
      "display_name": "Python 3"
    },
    "language_info": {
      "mimetype": "text/x-python",
      "nbconvert_exporter": "python",
      "name": "python",
      "pygments_lexer": "ipython2",
      "version": "2.7.16",
      "file_extension": ".py",
      "codemirror_mode": {
        "version": 2,
        "name": "ipython"
      }
    },
    "nteract": {
      "version": "0.15.0"
    }
  },
  "nbformat": 4,
  "nbformat_minor": 2
}