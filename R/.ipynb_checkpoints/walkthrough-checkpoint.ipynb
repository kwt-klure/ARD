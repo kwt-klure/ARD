{
 "cells": [
  {
   "cell_type": "markdown",
   "metadata": {},
   "source": [
    "# Illustration of Alidaee, Auerbach, and Leung (2019)\n",
    "\n",
    "This notebook walks through a brief illustration of the R implementation of the penalized regression estimator of Alidaee, Auerbach, and Leung (2019) for recovering networks from ARD.\n",
    "\n",
    "The code blocks in this notebook can be changed if this notebook is opened in [nteract](https://nteract.io/desktop). This allows you to execute any R code block by clicking on it and hitting *Shift+Enter*. These blocks can be modified by the user.\n",
    "\n",
    "## Background\n",
    "\n",
    "Let N2 be the number of agents in the full network, N1 the number of sample agents from which the researcher will gather ARD, and K the number of ARD questions of the form \"How many of your friends have type k?\" for k = 1, ..., K. Types could be characteristics like gender, race, or other such traits. The goal is to recover the N2 x N1 matrix $M^*$, which gives the linking probability between agents in the N1 sample and agents in the N2 population. \n",
    "\n",
    "The researcher conducts a full census of the network to obtain type data, which, in the example below, is stored in type\\_data.csv, a N2 x K matrix of indicators, where the ik-th entry is an indicator for whether agent i is type k. The ARD data is stored in ARD\\_data.csv, an N1 x K matrix where the ik-th entry is the number of agent i's friends of type k.\n",
    "\n",
    "## Setup\n",
    "\n",
    "First we'll import the required package."
   ]
  },
  {
   "cell_type": "code",
   "execution_count": 2,
   "metadata": {},
   "outputs": [],
   "source": [
    "library(nuclearARD) # import our package\n",
    "set.seed(0) # set seed"
   ]
  },
  {
   "cell_type": "markdown",
   "metadata": {},
   "source": [
    "### Simulate Data\n",
    "\n",
    "This section of the tutorial can be skipped. It is included only to show how the CSVs in our illustration were generated.\n",
    "\n",
    "Let *N1* be the number of units for which we obtain ARD. Let *N2* be the population size, meaning the number of units in the entire network. Let *K* be the number of traits for which we collect ARD.\n",
    "\n",
    "We simulate an undirected network with no self links from a random dot product graph on *N2* units. Then we take the submatrix of the network corresponding to links involving the subset of *N1* units for which we want to generate ARDs."
   ]
  },
  {
   "cell_type": "code",
   "execution_count": 3,
   "metadata": {},
   "outputs": [],
   "source": [
    "N1 <- 100\n",
    "N2 <- 200\n",
    "K <- as.integer(round(N1^0.4))\n",
    "\n",
    "# simulate network\n",
    "positions <- sqrt(runif(N2)) \n",
    "M <- positions %*% t(positions) # n x n matrix of link probabilities\n",
    "diag(M) <- 0 # zero out diagonal entries to ensure no self links\n",
    "U <- matrix(runif(N2^2), nrow=N2, ncol=N2)\n",
    "U <- t(U)/2 + U/2 # make matrix symmetric to have an undirected network\n",
    "G <- (U < M)[,1:N1] # simulated network submatrix"
   ]
  },
  {
   "cell_type": "markdown",
   "metadata": {},
   "source": [
    "When we discuss below how to use the result of our estimation procedure, we explain some of these commands used to simulate the network.\n",
    "\n",
    "Next we create a *K* by *N2* matrix of types, which we'll just take to be a matrix of i.i.d. Bernoulli random variables. Call this matrix *types*. Then we'll construct the ARDs, which is what the econometrician actually observes in data. This is obtained just by taking the matrix product of *types* and *G*."
   ]
  },
  {
   "cell_type": "code",
   "execution_count": 4,
   "metadata": {},
   "outputs": [],
   "source": [
    "types <- matrix(rbinom(K*N2, size=1, prob=0.5), nrow=K, ncol=N2)\n",
    "ARDs <- types %*% G"
   ]
  },
  {
   "cell_type": "markdown",
   "metadata": {},
   "source": [
    "In preparation for the actual exercise, we next save these matrices in CSV files."
   ]
  },
  {
   "cell_type": "code",
   "execution_count": 5,
   "metadata": {},
   "outputs": [],
   "source": [
    "write.csv(t(ARDs), 'ARD_data.csv')\n",
    "write.csv(t(types), 'type_data.csv')"
   ]
  },
  {
   "cell_type": "markdown",
   "metadata": {},
   "source": [
    "This saves *ARDs* in a file *ARD_data.csv* and *types* in a file *type_data.csv*.\n",
    "\n",
    "### Load Data\n",
    "\n",
    "In the previous section, we simulated the following matrices, which we saved as CSVs.\n",
    "\n",
    "*types* is a K by N2 matrix of indicators giving the types of each unit in the surveyed population. For example, the first column might contain indicators for being female, being white, etc. for unit 1.\n",
    "\n",
    "*ARDs* is a K by N1 matrix of K ARDs for N1 observations. For example, the first column might contain the number of female friends, number of white friends, etc. of unit 1.\n",
    "\n",
    "In practice, we would have gathered this data from the field and have them already saved in CSVs. We load them as follows."
   ]
  },
  {
   "cell_type": "code",
   "execution_count": 6,
   "metadata": {},
   "outputs": [],
   "source": [
    "# load CSVs as matrices\n",
    "ARDs <- t(as.matrix(read.csv('ARD_data.csv')))\n",
    "types <- t(as.matrix(read.csv('type_data.csv')))\n",
    "\n",
    "# store dimensions\n",
    "K <- nrow(ARDs)\n",
    "N1 <- ncol(ARDs)\n",
    "N2 <- ncol(types)"
   ]
  },
  {
   "cell_type": "markdown",
   "metadata": {},
   "source": [
    "## Estimation\n",
    "\n",
    "To estimate the distribution of the network, we use the function *matrix_regression* function, which was loaded in by our *library(nuclearARD)* call above."
   ]
  },
  {
   "cell_type": "code",
   "execution_count": 7,
   "metadata": {},
   "outputs": [
    {
     "ename": "ERROR",
     "evalue": "Error in runif(M * N, min = 0, max = 1) %>% matrix(nrow = N, ncol = M): could not find function \"%>%\"\n",
     "output_type": "error",
     "traceback": [
      "Error in runif(M * N, min = 0, max = 1) %>% matrix(nrow = N, ncol = M): could not find function \"%>%\"\nTraceback:\n",
      "1. matrix_regression(types, ARDs)",
      "2. accel_nuclear_gradient(inputs, outputs, lambda, Lipschitz, iterations, \n .     etol, Z_1, gamma, symmetrize)"
     ]
    }
   ],
   "source": [
    "M_hat <- matrix_regression(types, ARDs)"
   ]
  },
  {
   "cell_type": "markdown",
   "metadata": {},
   "source": [
    "\n",
    "*M_hat* is our main estimate. It is an N2 by N1 matrix, where the *ij*th entry is our estimate of the probability that unit *i* links with unit *j*.\n",
    "\n",
    "Just to see that we've done something, let's print the upper 5 by 5 submatrix of *M_hat*."
   ]
  },
  {
   "cell_type": "code",
   "execution_count": null,
   "metadata": {},
   "outputs": [],
   "source": [
    "print(M_hat[1:5,1:5])"
   ]
  },
  {
   "cell_type": "markdown",
   "metadata": {},
   "source": [
    "## Using the Result\n",
    "\n",
    "The estimated network distribution *M_hat* can be saved in a CSV as follows. It can then be imported into the user's favorite statistical computing environment."
   ]
  },
  {
   "cell_type": "code",
   "execution_count": null,
   "metadata": {},
   "outputs": [],
   "source": [
    "# save in a CSV file called estimated_network\n",
    "write.csv(M_hat, 'estimated_network.csv')"
   ]
  },
  {
   "cell_type": "markdown",
   "metadata": {},
   "source": [
    "This result can then be used as an input into a second-stage model. See Breza et al. (2019) for possible applications.\n",
    "\n",
    "It may also be of interest to simulate networks from *M_hat*. In our model, *M_hat* (or more precisely its upper diagonal, given the network is undirected) is a matrix of independent linking probabilities. Thus to simulate a network *G* from *M_hat*, we just draw an N2 by N1 matrix of i.i.d. uniform random variables, denoted by *U* and form the *ij* entry of *G* according to $G_{ij}=\\mathbf{1}\\{U_{ij} < \\hat{M}_{ij}\\}$. In Python, this is done as follows.\n",
    "\n",
    "First, draw an N2 by N1 matrix of i.i.d. uniform random variables."
   ]
  },
  {
   "cell_type": "code",
   "execution_count": null,
   "metadata": {},
   "outputs": [],
   "source": [
    "U <- matrix(runif(N2*N1), nrow=N2, ncol=N1) # draw uniform random variables\n",
    "diag(U) <- 0 # zero out the diagonal entries (if no self links)"
   ]
  },
  {
   "cell_type": "markdown",
   "metadata": {},
   "source": [
    "If the true network is undirected, then we need to symmetrize the upper N1 by N1 submatrix. If the true matrix is directed, then skip this step."
   ]
  },
  {
   "cell_type": "code",
   "execution_count": null,
   "metadata": {},
   "outputs": [],
   "source": [
    "U_sub <- U[1:N1, ]  # extract upper N1 x N1 submatrix\n",
    "U_sub <- t(U_sub)/2 + U_sub # symmetrize the submatrix\n",
    "U[1:N1, ] <- U_sub. # replace the upper N1 x N1 submatrix of\n",
    "                    #     the original matrix U with U_sub"
   ]
  },
  {
   "cell_type": "markdown",
   "metadata": {},
   "source": [
    "Given *U* and *M_hat*, our simulated network *G* is obtained as follows."
   ]
  },
  {
   "cell_type": "code",
   "execution_count": null,
   "metadata": {},
   "outputs": [],
   "source": [
    "G <- 1*(U < M_hat)"
   ]
  },
  {
   "cell_type": "markdown",
   "metadata": {},
   "source": [
    "The command *(U < M_hat)* generates an N2 x N1 matrix of booleans (True/False) where the *ij*th entry is True if and only if $U_{ij} < \\hat{M}_{ij}$. To convert this to 1s and 0s, we use the *astype* method to convert to the integer type.\n",
    "\n",
    "Now we can use *G* as an input into some second stage procedure. See Breza et al. (2019) for examples. Just to see that we've done something, let's print the upper 10 x 10 submatrix of *G*:"
   ]
  },
  {
   "cell_type": "code",
   "execution_count": null,
   "metadata": {},
   "outputs": [],
   "source": [
    "print(G[1:10,1:10])"
   ]
  }
 ],
 "metadata": {
  "kernel_info": {
   "name": "ir"
  },
  "kernelspec": {
   "display_name": "R",
   "language": "R",
   "name": "ir"
  },
  "language_info": {
   "codemirror_mode": "r",
   "file_extension": ".r",
   "mimetype": "text/x-r-source",
   "name": "R",
   "pygments_lexer": "r",
   "version": "3.6.2"
  },
  "nteract": {
   "version": "0.15.0"
  }
 },
 "nbformat": 4,
 "nbformat_minor": 2
}
